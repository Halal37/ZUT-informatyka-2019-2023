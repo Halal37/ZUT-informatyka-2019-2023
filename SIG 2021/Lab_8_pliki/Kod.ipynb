{
 "cells": [
  {
   "cell_type": "code",
   "execution_count": 173,
   "id": "2e951ecb",
   "metadata": {},
   "outputs": [],
   "source": [
    "from osgeo import gdal \n",
    "from osgeo import ogr \n",
    "from osgeo import osr \n",
    "from osgeo import gdal_array \n",
    "import os\n",
    "import numpy as np\n",
    "from matplotlib import pyplot\n",
    "import rasterio\n",
    "from rasterio.plot import show, show_hist\n",
    "import subprocess"
   ]
  },
  {
   "cell_type": "code",
   "execution_count": 174,
   "id": "218124da",
   "metadata": {},
   "outputs": [
    {
     "name": "stdout",
     "output_type": "stream",
     "text": [
      "C:\\Users\\JaSzw\\OneDrive\\Pulpit\\Geoinfa\\Pliki_lab_8\\puszcza_bukowa_szmaragdowe.asc\n"
     ]
    }
   ],
   "source": [
    "path=r\"C:\\Users\\JaSzw\\OneDrive\\Pulpit\\Geoinfa\\Pliki_lab_8\" \n",
    "file=\"puszcza_bukowa_szmaragdowe.asc\"\n",
    "plik=os.path.join(path,file)\n",
    "print(plik)"
   ]
  },
  {
   "cell_type": "code",
   "execution_count": 175,
   "id": "6482b3c8",
   "metadata": {},
   "outputs": [
    {
     "data": {
      "text/plain": [
       "['AddBand',\n",
       " 'AdviseRead',\n",
       " 'BeginAsyncReader',\n",
       " 'BuildOverviews',\n",
       " 'CommitTransaction',\n",
       " 'CopyLayer',\n",
       " 'CreateLayer',\n",
       " 'CreateMaskBand',\n",
       " 'DeleteLayer',\n",
       " 'EndAsyncReader',\n",
       " 'ExecuteSQL',\n",
       " 'FlushCache',\n",
       " 'GetDescription',\n",
       " 'GetDriver',\n",
       " 'GetFileList',\n",
       " 'GetGCPCount',\n",
       " 'GetGCPProjection',\n",
       " 'GetGCPSpatialRef',\n",
       " 'GetGCPs',\n",
       " 'GetGeoTransform',\n",
       " 'GetLayer',\n",
       " 'GetLayerByIndex',\n",
       " 'GetLayerByName',\n",
       " 'GetLayerCount',\n",
       " 'GetMetadata',\n",
       " 'GetMetadataDomainList',\n",
       " 'GetMetadataItem',\n",
       " 'GetMetadata_Dict',\n",
       " 'GetMetadata_List',\n",
       " 'GetNextFeature',\n",
       " 'GetProjection',\n",
       " 'GetProjectionRef',\n",
       " 'GetRasterBand',\n",
       " 'GetSpatialRef',\n",
       " 'GetStyleTable',\n",
       " 'GetSubDatasets',\n",
       " 'GetTiledVirtualMem',\n",
       " 'GetTiledVirtualMemArray',\n",
       " 'GetVirtualMem',\n",
       " 'GetVirtualMemArray',\n",
       " 'RasterCount',\n",
       " 'RasterXSize',\n",
       " 'RasterYSize',\n",
       " 'ReadAsArray',\n",
       " 'ReadRaster',\n",
       " 'ReadRaster1',\n",
       " 'ReleaseResultSet',\n",
       " 'ResetReading',\n",
       " 'RollbackTransaction',\n",
       " 'SetDescription',\n",
       " 'SetGCPs',\n",
       " 'SetGeoTransform',\n",
       " 'SetMetadata',\n",
       " 'SetMetadataItem',\n",
       " 'SetProjection',\n",
       " 'SetSpatialRef',\n",
       " 'SetStyleTable',\n",
       " 'StartTransaction',\n",
       " 'TestCapability',\n",
       " 'WriteRaster',\n",
       " '_SetGCPs',\n",
       " '_SetGCPs2',\n",
       " '__class__',\n",
       " '__del__',\n",
       " '__delattr__',\n",
       " '__dict__',\n",
       " '__dir__',\n",
       " '__doc__',\n",
       " '__eq__',\n",
       " '__format__',\n",
       " '__ge__',\n",
       " '__getattr__',\n",
       " '__getattribute__',\n",
       " '__gt__',\n",
       " '__hash__',\n",
       " '__init__',\n",
       " '__init_subclass__',\n",
       " '__le__',\n",
       " '__lt__',\n",
       " '__module__',\n",
       " '__ne__',\n",
       " '__new__',\n",
       " '__reduce__',\n",
       " '__reduce_ex__',\n",
       " '__repr__',\n",
       " '__setattr__',\n",
       " '__sizeof__',\n",
       " '__str__',\n",
       " '__subclasshook__',\n",
       " '__swig_destroy__',\n",
       " '__swig_getmethods__',\n",
       " '__swig_setmethods__',\n",
       " '__weakref__',\n",
       " '_s',\n",
       " 'this']"
      ]
     },
     "execution_count": 175,
     "metadata": {},
     "output_type": "execute_result"
    }
   ],
   "source": [
    "gdaldem = \"gdaldem.exe slope\"\n",
    "src = \"C:\\\\Users\\JaSzw\\OneDrive\\Pulpit\\Geoinfa\\Pliki_lab_8\\puszcza_bukowa_szmaragdowe.asc\"\n",
    "dst = \"puszcza_bukowa_nach.tif\"\n",
    "\n",
    "subprocess.run(gdaldem + \" -of Gtiff -b 1 -s 1.0 \" + src + \" \" +  dst)\n",
    "gdal.GetDriverByName('GTiff')\n",
    "nmt=gdal.Open(dst)\n",
    "dir(nmt)"
   ]
  },
  {
   "cell_type": "code",
   "execution_count": 176,
   "id": "c6ef7ab0",
   "metadata": {},
   "outputs": [],
   "source": [
    "band = nmt.GetRasterBand(1)\n",
    "array=band.ReadAsArray()"
   ]
  },
  {
   "cell_type": "code",
   "execution_count": 177,
   "id": "a61f50d4",
   "metadata": {},
   "outputs": [],
   "source": [
    "array[np.where( array <= 5 )] = 1\n",
    "array[np.where((5 < array) & (array <= 10)) ] = 2\n",
    "array[np.where((10 < array) & (array <= 20)) ] = 3\n",
    "array[np.where( array > 20 )] = 4"
   ]
  },
  {
   "cell_type": "code",
   "execution_count": 178,
   "id": "ff18778e",
   "metadata": {},
   "outputs": [
    {
     "name": "stdout",
     "output_type": "stream",
     "text": [
      "[[1. 1. 1. ... 1. 1. 1.]\n",
      " [1. 2. 1. ... 3. 3. 1.]\n",
      " [1. 2. 1. ... 4. 4. 1.]\n",
      " ...\n",
      " [1. 1. 1. ... 3. 3. 1.]\n",
      " [1. 1. 1. ... 3. 3. 1.]\n",
      " [1. 1. 1. ... 1. 1. 1.]]\n"
     ]
    }
   ],
   "source": [
    "print(array)"
   ]
  },
  {
   "cell_type": "code",
   "execution_count": 179,
   "id": "5b7872fb",
   "metadata": {},
   "outputs": [
    {
     "name": "stdout",
     "output_type": "stream",
     "text": [
      "(208859.5, 1.0, 0.0, 620948.5, 0.0, -1.0)\n",
      "1.0 5.6147 ha\n",
      "2.0 3.7006 ha\n",
      "3.0 5.3001 ha\n",
      "4.0 6.0142 ha\n"
     ]
    }
   ],
   "source": [
    "area_per_pixel=nmt.GetGeoTransform()\n",
    "print(area_per_pixel)\n",
    "for x in np.unique(array):\n",
    "    tot_num_pixels = np.sum(array == x)\n",
    "    area = tot_num_pixels * area_per_pixel[1]\n",
    "    print (x, area/10000, 'ha')"
   ]
  },
  {
   "cell_type": "code",
   "execution_count": 181,
   "id": "6cd3cbce",
   "metadata": {},
   "outputs": [
    {
     "data": {
      "text/plain": [
       "0"
      ]
     },
     "execution_count": 181,
     "metadata": {},
     "output_type": "execute_result"
    }
   ],
   "source": [
    "file2 = driver.Create( 'do_pokazania.tif', nmt.RasterXSize , nmt.RasterYSize , 1)\n",
    "file2.GetRasterBand(1).WriteArray(array)"
   ]
  },
  {
   "cell_type": "code",
   "execution_count": 182,
   "id": "8fe06896",
   "metadata": {},
   "outputs": [
    {
     "data": {
      "text/plain": [
       "<matplotlib.colorbar.Colorbar at 0x2313d595bb0>"
      ]
     },
     "execution_count": 182,
     "metadata": {},
     "output_type": "execute_result"
    },
    {
     "data": {
      "image/png": "[encoded data removed]",
      "text/plain": [
       "<Figure size 432x288 with 2 Axes>"
      ]
     },
     "metadata": {
      "needs_background": "light"
     },
     "output_type": "display_data"
    }
   ],
   "source": [
    "proj = nmt.GetProjection()\n",
    "georef = nmt.GetGeoTransform()\n",
    "file2.SetProjection(proj)\n",
    "file2.SetGeoTransform(georef)\n",
    "file2.FlushCache()\n",
    "pyplot.imshow ( array, interpolation='nearest', vmin=1)\n",
    "pyplot.colorbar()"
   ]
  },
  {
   "cell_type": "code",
   "execution_count": 183,
   "id": "4813e997",
   "metadata": {},
   "outputs": [],
   "source": [
    "\n",
    "\n",
    "outFileName = 'C:\\\\Users\\JaSzw\\OneDrive\\Pulpit\\Geoinfa\\Pliki_lab_8\\lab5_lidwin.tif'\n",
    "\n",
    "srs = osr.SpatialReference()\n",
    "srs.ImportFromEPSG(4326)\n",
    "\n",
    "\n",
    "band = nmt.GetRasterBand(1) \n",
    "\n",
    "array = band.ReadAsArray() \n",
    "[cols, rows] = array.shape \n",
    "\n",
    "driver = gdal.GetDriverByName(\"GTiff\")\n",
    "outdata = driver.Create(outFileName, rows, cols, 1, gdal.GDT_Float32)\n",
    "outdata.SetGeoTransform(nmt.GetGeoTransform())\n",
    "outdata.SetProjection(srs.ExportToWkt())\n",
    "outdata.GetRasterBand(1).WriteArray(array)\n",
    "outdata.GetRasterBand(1).SetNoDataValue(-9999)\n",
    "outdata.FlushCache() \n"
   ]
  },
  {
   "cell_type": "code",
   "execution_count": 184,
   "id": "f2ae8831",
   "metadata": {},
   "outputs": [
    {
     "data": {
      "text/html": [
       "<div>\n",
       "<style scoped>\n",
       "    .dataframe tbody tr th:only-of-type {\n",
       "        vertical-align: middle;\n",
       "    }\n",
       "\n",
       "    .dataframe tbody tr th {\n",
       "        vertical-align: top;\n",
       "    }\n",
       "\n",
       "    .dataframe thead th {\n",
       "        text-align: right;\n",
       "    }\n",
       "</style>\n",
       "<table border=\"1\" class=\"dataframe\">\n",
       "  <thead>\n",
       "    <tr style=\"text-align: right;\">\n",
       "      <th></th>\n",
       "      <th>geometry</th>\n",
       "      <th>raster_val</th>\n",
       "      <th>teren</th>\n",
       "    </tr>\n",
       "  </thead>\n",
       "  <tbody>\n",
       "    <tr>\n",
       "      <th>0</th>\n",
       "      <td>POLYGON ((208860.500 620947.500, 208860.500 62...</td>\n",
       "      <td>5.367639</td>\n",
       "      <td>0.0001</td>\n",
       "    </tr>\n",
       "    <tr>\n",
       "      <th>1</th>\n",
       "      <td>POLYGON ((208861.500 620947.500, 208861.500 62...</td>\n",
       "      <td>3.125196</td>\n",
       "      <td>0.0001</td>\n",
       "    </tr>\n",
       "    <tr>\n",
       "      <th>2</th>\n",
       "      <td>POLYGON ((208862.500 620947.500, 208862.500 62...</td>\n",
       "      <td>5.295449</td>\n",
       "      <td>0.0001</td>\n",
       "    </tr>\n",
       "    <tr>\n",
       "      <th>3</th>\n",
       "      <td>POLYGON ((208863.500 620947.500, 208863.500 62...</td>\n",
       "      <td>3.731256</td>\n",
       "      <td>0.0001</td>\n",
       "    </tr>\n",
       "    <tr>\n",
       "      <th>4</th>\n",
       "      <td>POLYGON ((208864.500 620947.500, 208864.500 62...</td>\n",
       "      <td>2.631518</td>\n",
       "      <td>0.0001</td>\n",
       "    </tr>\n",
       "  </tbody>\n",
       "</table>\n",
       "</div>"
      ],
      "text/plain": [
       "                                            geometry  raster_val   teren\n",
       "0  POLYGON ((208860.500 620947.500, 208860.500 62...    5.367639  0.0001\n",
       "1  POLYGON ((208861.500 620947.500, 208861.500 62...    3.125196  0.0001\n",
       "2  POLYGON ((208862.500 620947.500, 208862.500 62...    5.295449  0.0001\n",
       "3  POLYGON ((208863.500 620947.500, 208863.500 62...    3.731256  0.0001\n",
       "4  POLYGON ((208864.500 620947.500, 208864.500 62...    2.631518  0.0001"
      ]
     },
     "execution_count": 184,
     "metadata": {},
     "output_type": "execute_result"
    }
   ],
   "source": [
    "import rasterio\n",
    "from rasterio.features import shapes\n",
    "do_konwersji=\"C:\\\\Users\\JaSzw\\OneDrive\\Pulpit\\Geoinfa\\Pliki_lab_8\\lab5_lidwin.tif\"\n",
    "mask = None\n",
    "with rasterio.Env():\n",
    "    with rasterio.open(do_konwersji) as file_r:\n",
    "        image = file_r.read(1)\n",
    "        rozm = (\n",
    "        {'properties': {'raster_val': v}, 'geometry': s}\n",
    "        for i, (s, v) \n",
    "        in enumerate(\n",
    "            shapes(image, mask=mask, transform=file_r.transform)))\n",
    "wynik= list(rozm)\n",
    "gdf = gpd.GeoDataFrame.from_features(wynik)\n",
    "gdf['teren'] = gdf.area / 10000\n",
    "gdf.to_file(\"C:\\\\Users\\JaSzw\\OneDrive\\Pulpit\\Geoinfa\\Pliki_lab_8\\lab5_lidwin.gpkg\", driver=\"GPKG\")\n",
    "gdf.head()"
   ]
  },
  {
   "cell_type": "code",
   "execution_count": null,
   "id": "d76a505e",
   "metadata": {},
   "outputs": [],
   "source": []
  }
 ],
 "metadata": {
  "kernelspec": {
   "display_name": "Python 3",
   "language": "python",
   "name": "python3"
  },
  "language_info": {
   "codemirror_mode": {
    "name": "ipython",
    "version": 3
   },
   "file_extension": ".py",
   "mimetype": "text/x-python",
   "name": "python",
   "nbconvert_exporter": "python",
   "pygments_lexer": "ipython3",
   "version": "3.8.8"
  }
 },
 "nbformat": 4,
 "nbformat_minor": 5
}
