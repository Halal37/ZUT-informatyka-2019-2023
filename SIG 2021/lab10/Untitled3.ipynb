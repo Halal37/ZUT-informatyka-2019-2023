{
 "cells": [
  {
   "cell_type": "code",
   "execution_count": 1,
   "id": "bc20a7a4",
   "metadata": {},
   "outputs": [
    {
     "name": "stdout",
     "output_type": "stream",
     "text": [
      "3000200\n"
     ]
    }
   ],
   "source": [
    "import os\n",
    "import numpy as np\n",
    "import folium\n",
    "import shapely.wkt\n",
    "import geopandas\n",
    "import matplotlib.pyplot as plt\n",
    "from osgeo import ogr, osr, gdal\n",
    "\n",
    "version_num = int(gdal.VersionInfo('VERSION_NUM'))\n",
    "print(version_num)"
   ]
  },
  {
   "cell_type": "code",
   "execution_count": 2,
   "id": "f77da655",
   "metadata": {},
   "outputs": [
    {
     "name": "stdout",
     "output_type": "stream",
     "text": [
      "ARCGEN\n",
      "AVCBin\n",
      "AVCE00\n",
      "AeronavFAA\n",
      "AmigoCloud\n",
      "BNA\n",
      "CAD\n",
      "CSV\n",
      "CSW\n",
      "Carto\n",
      "Cloudant\n",
      "CouchDB\n",
      "DB2ODBC\n",
      "DGN\n",
      "DXF\n",
      "EDIGEO\n",
      "EEDA\n",
      "ESRI Shapefile\n",
      "ESRIJSON\n",
      "ElasticSearch\n",
      "GFT\n",
      "GML\n",
      "GMLAS\n",
      "GPKG\n",
      "GPSBabel\n",
      "GPSTrackMaker\n",
      "GPX\n",
      "GeoJSON\n",
      "GeoJSONSeq\n",
      "GeoRSS\n",
      "Geoconcept\n",
      "Geomedia\n",
      "HTF\n",
      "HTTP\n",
      "Idrisi\n",
      "JML\n",
      "JP2OpenJPEG\n",
      "KML\n",
      "MBTiles\n",
      "MSSQLSpatial\n",
      "MVT\n",
      "MapInfo File\n",
      "Memory\n",
      "NAS\n",
      "NGW\n",
      "ODBC\n",
      "ODS\n",
      "OGR_GMT\n",
      "OGR_PDS\n",
      "OGR_SDTS\n",
      "OGR_VRT\n",
      "OSM\n",
      "OpenAir\n",
      "OpenFileGDB\n",
      "PCIDSK\n",
      "PDF\n",
      "PDS4\n",
      "PGDUMP\n",
      "PGeo\n",
      "PLSCENES\n",
      "PostgreSQL\n",
      "REC\n",
      "S57\n",
      "SEGUKOOA\n",
      "SEGY\n",
      "SQLite\n",
      "SUA\n",
      "SVG\n",
      "SXF\n",
      "Selafin\n",
      "TIGER\n",
      "TopoJSON\n",
      "UK .NTF\n",
      "VDV\n",
      "VFK\n",
      "WAsP\n",
      "WFS\n",
      "WFS3\n",
      "Walk\n",
      "XLS\n",
      "XLSX\n",
      "XPlane\n",
      "netCDF\n"
     ]
    }
   ],
   "source": [
    "import ogr\n",
    "cnt = ogr.GetDriverCount()\n",
    "formatsList = []\n",
    "\n",
    "for i in range(cnt):\n",
    "    driver = ogr.GetDriver(i)\n",
    "    driverName = driver.GetName()\n",
    "    if not driverName in formatsList:\n",
    "        formatsList.append(driverName)\n",
    "\n",
    "formatsList.sort() \n",
    "\n",
    "for i in formatsList:\n",
    "    print (i)"
   ]
  },
  {
   "cell_type": "markdown",
   "id": "6eb0dda5",
   "metadata": {},
   "source": [
    "Nie wiem czemu, ale stosujac też inne metody dla ogr2ogr zawsze returncode wynosi 1 co oznacza blad, natomiast jedyny inny efekt jaki uzyskale to returncode 3221225781, co tez było wartoscia bledna"
   ]
  },
  {
   "cell_type": "code",
   "execution_count": 3,
   "id": "73a5b619",
   "metadata": {},
   "outputs": [
    {
     "data": {
      "text/plain": [
       "CompletedProcess(args='C:/Program Files/QGIS 3.16/bin/ogr2ogr.exe -s_srs EPSG:2180 -t_srs EPSG:2180 -f GPKG C:\\\\Users\\\\JaSzw\\\\OneDrive\\\\Pulpit\\\\Geoinfa\\\\lab10_ogr_wektor 2\\x08udynki.gpkg C:\\\\Users\\\\JaSzw\\\\OneDrive\\\\Pulpit\\\\Geoinfa\\\\lab10_ogr_wektor 2\\x08udynki.shp', returncode=1)"
      ]
     },
     "execution_count": 3,
     "metadata": {},
     "output_type": "execute_result"
    }
   ],
   "source": [
    "from osgeo import gdal\n",
    "import subprocess\n",
    "import os\n",
    "\n",
    "path= \"C:/Program Files/QGIS 3.16/bin/\"\n",
    "ogr2ogr = \"ogr2ogr.exe\"\n",
    "gdalwarp=\"gdalwarp.exe\"\n",
    "src = \"C:\\\\Users\\JaSzw\\OneDrive\\Pulpit\\Geoinfa\\lab10_ogr_wektor 2\\budynki.shp\"\n",
    "dst = \"C:\\\\Users\\JaSzw\\OneDrive\\Pulpit\\Geoinfa\\lab10_ogr_wektor 2\\budynki.gpkg\"\n",
    "options=\" -s_srs EPSG:2180 -t_srs EPSG:2180 -f GPKG \"\n",
    "\n",
    "subprocess.run(path + ogr2ogr + options + dst + \" \" + src)\n",
    "\n",
    "#subprocess.call([\"ogr2ogr\", \"-f\", \"GPKG\", dst, src], shell=True)"
   ]
  },
  {
   "cell_type": "code",
   "execution_count": 4,
   "id": "34938c49",
   "metadata": {},
   "outputs": [
    {
     "data": {
      "text/plain": [
       "CompletedProcess(args='C:/Program Files/QGIS 3.16/bin/ogr2ogr.exe -s_srs EPSG:2180 -t_srs EPSG:4326 -f KML C:\\\\Users\\\\JaSzw\\\\OneDrive\\\\Pulpit\\\\Geoinfa\\\\lab10_ogr_wektor 2\\x08udynkikml C:\\\\Users\\\\JaSzw\\\\OneDrive\\\\Pulpit\\\\Geoinfa\\\\lab10_ogr_wektor 2\\x08udynki.shp', returncode=1)"
      ]
     },
     "execution_count": 4,
     "metadata": {},
     "output_type": "execute_result"
    }
   ],
   "source": [
    "dst2 = \"C:\\\\Users\\JaSzw\\OneDrive\\Pulpit\\Geoinfa\\lab10_ogr_wektor 2\\budynkikml\"\n",
    "options2=\" -s_srs EPSG:2180 -t_srs EPSG:4326 -f KML \"\n",
    "subprocess.run(path + ogr2ogr + options2 + dst2 + \" \" + src)"
   ]
  },
  {
   "cell_type": "code",
   "execution_count": 5,
   "id": "2e1ca5d3",
   "metadata": {},
   "outputs": [
    {
     "data": {
      "text/plain": [
       "CompletedProcess(args='C:/Program Files/QGIS 3.16/bin/ogr2ogr.exe -s_srs EPSG:2180 -t_srs EPSG:2176 -f GeoJSON C:\\\\Users\\\\JaSzw\\\\OneDrive\\\\Pulpit\\\\Geoinfa\\\\lab10_ogr_wektor 2\\x08udynki.json C:\\\\Users\\\\JaSzw\\\\OneDrive\\\\Pulpit\\\\Geoinfa\\\\lab10_ogr_wektor 2\\x08udynki.shp', returncode=1)"
      ]
     },
     "execution_count": 5,
     "metadata": {},
     "output_type": "execute_result"
    }
   ],
   "source": [
    "dst3 = \"C:\\\\Users\\JaSzw\\OneDrive\\Pulpit\\Geoinfa\\lab10_ogr_wektor 2\\budynki.json\"\n",
    "options3=\" -s_srs EPSG:2180 -t_srs EPSG:2176 -f GeoJSON \"\n",
    "subprocess.run(path + ogr2ogr + options3 + dst3 + \" \" + src)"
   ]
  },
  {
   "cell_type": "code",
   "execution_count": 6,
   "id": "df0d6981",
   "metadata": {},
   "outputs": [],
   "source": [
    "path=r\"C:\\\\Users\\JaSzw\\OneDrive\\Pulpit\\Geoinfa\\lab10_ogr_wektor 2\"\n",
    "file=\"budynki.shp\"\n",
    "budynki_tr=os.path.join(path,file)\n",
    "budynki_gdf = geopandas.read_file(budynki_tr)\n",
    "budynki_gdf_1=budynki_gdf\n",
    "budynki_gdf_2=budynki_gdf\n",
    "budynki_gdf_3=budynki_gdf\n",
    "budynki_gdf_2.crs=\"EPSG:4326\"\n",
    "budynki_gdf_3.crs=\"EPSG:2176\"\n"
   ]
  },
  {
   "cell_type": "code",
   "execution_count": 7,
   "id": "57a48817",
   "metadata": {},
   "outputs": [],
   "source": [
    "#budynki_gdf_1.to_file(\"budynki_g.gpkg\", driver=\"GPKG\")"
   ]
  },
  {
   "cell_type": "code",
   "execution_count": 8,
   "id": "4a4a3664",
   "metadata": {},
   "outputs": [],
   "source": [
    "#budynki_gdf_2.to_file(\"budynki.kml\", driver='KML' )\n",
    "budynki_gdf_3.to_file(\"budynki_j.json\", driver='GeoJSON')"
   ]
  },
  {
   "cell_type": "code",
   "execution_count": 9,
   "id": "75a20b18",
   "metadata": {},
   "outputs": [
    {
     "name": "stdout",
     "output_type": "stream",
     "text": [
      "PROJCS[\"ETRS89 / Poland CS92\",\n",
      "    GEOGCS[\"ETRS89\",\n",
      "        DATUM[\"European_Terrestrial_Reference_System_1989\",\n",
      "            SPHEROID[\"GRS 1980\",6378137,298.257222101,\n",
      "                AUTHORITY[\"EPSG\",\"7019\"]],\n",
      "            AUTHORITY[\"EPSG\",\"6258\"]],\n",
      "        PRIMEM[\"Greenwich\",0,\n",
      "            AUTHORITY[\"EPSG\",\"8901\"]],\n",
      "        UNIT[\"degree\",0.0174532925199433,\n",
      "            AUTHORITY[\"EPSG\",\"9122\"]],\n",
      "        AUTHORITY[\"EPSG\",\"4258\"]],\n",
      "    PROJECTION[\"Transverse_Mercator\"],\n",
      "    PARAMETER[\"latitude_of_origin\",0],\n",
      "    PARAMETER[\"central_meridian\",19],\n",
      "    PARAMETER[\"scale_factor\",0.9993],\n",
      "    PARAMETER[\"false_easting\",500000],\n",
      "    PARAMETER[\"false_northing\",-5300000],\n",
      "    UNIT[\"metre\",1,\n",
      "        AUTHORITY[\"EPSG\",\"9001\"]],\n",
      "    AXIS[\"Northing\",NORTH],\n",
      "    AXIS[\"Easting\",EAST],\n",
      "    AUTHORITY[\"EPSG\",\"2180\"]]\n"
     ]
    }
   ],
   "source": [
    "driver = ogr.GetDriverByName('ESRI Shapefile')\n",
    "dataset = driver.Open(r'C:\\\\Users\\JaSzw\\OneDrive\\Pulpit\\Geoinfa\\lab10_ogr_wektor 2\\budynki.shp')\n",
    "\n",
    "\n",
    "layer = dataset.GetLayer()\n",
    "spatialRef = layer.GetSpatialRef()\n",
    "\n",
    "feature = layer.GetNextFeature()\n",
    "geom = feature.GetGeometryRef()\n",
    "spatialRef = geom.GetSpatialReference()\n",
    "print (spatialRef)"
   ]
  },
  {
   "cell_type": "code",
   "execution_count": null,
   "id": "03081185",
   "metadata": {},
   "outputs": [],
   "source": []
  }
 ],
 "metadata": {
  "kernelspec": {
   "display_name": "Python 3",
   "language": "python",
   "name": "python3"
  },
  "language_info": {
   "codemirror_mode": {
    "name": "ipython",
    "version": 3
   },
   "file_extension": ".py",
   "mimetype": "text/x-python",
   "name": "python",
   "nbconvert_exporter": "python",
   "pygments_lexer": "ipython3",
   "version": "3.8.8"
  }
 },
 "nbformat": 4,
 "nbformat_minor": 5
}
